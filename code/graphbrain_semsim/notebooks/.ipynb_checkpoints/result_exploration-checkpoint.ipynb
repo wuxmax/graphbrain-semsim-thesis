{
 "cells": [
  {
   "cell_type": "code",
   "execution_count": 1,
   "metadata": {
    "collapsed": true
   },
   "outputs": [],
   "source": [
    "import json\n",
    "\n",
    "import pandas as pd\n",
    "\n",
    "from graphbrain.semsim.case_studies import get_result_dir"
   ]
  },
  {
   "cell_type": "code",
   "execution_count": 2,
   "outputs": [],
   "source": [
    "result_dir = get_result_dir()"
   ],
   "metadata": {
    "collapsed": false
   }
  },
  {
   "cell_type": "code",
   "execution_count": 3,
   "outputs": [],
   "source": [
    "RESULT_FILE: str = \"conflicts_2023-10-01_12-32-28.json\""
   ],
   "metadata": {
    "collapsed": false
   }
  },
  {
   "cell_type": "code",
   "execution_count": 4,
   "outputs": [],
   "source": [
    "results_file_path = result_dir / RESULT_FILE\n",
    "with open(results_file_path) as fp:\n",
    "    result_dict = json.load(fp)\n",
    "\n",
    "config = result_dict['config']\n",
    "pattern = result_dict['pattern']\n",
    "results = result_dict['results']"
   ],
   "metadata": {
    "collapsed": false
   }
  },
  {
   "cell_type": "code",
   "execution_count": 5,
   "outputs": [
    {
     "id": "stdout",
     "output_type": "stream",
     "text": [
      "{'model_name': 'word2vec-google-news-300', 'similarity_threshold': 0.8}\n"
     ]
    }
   ],
   "source": [
    "print(config)"
   ],
   "metadata": {
    "collapsed": false
   }
  },
  {
   "cell_type": "code",
   "execution_count": 6,
   "outputs": [
    {
     "id": "stdout",
     "output_type": "stream",
     "text": [
      "( (var (any (atoms (lemma accuse/P.{so,x})) (atoms (lemma arrest/P.{so,x})) (atoms (lemma clash/P.{so,x})) (atoms (lemma condemn/P.{so,x})) (atoms (lemma kill/P.{so,x})) (atoms (lemma slam/P.{so,x})) (atoms (lemma warn/P.{so,x}))) PRED) (semsim [afghanistan,argentina,australia,austria,bahamas,bahrain,bangladesh,belgium,brazil,canada,chad,chile,china,colombia,congo,croatia,cuba,cyprus,denmark,ecuador,egypt,ethiopia,fiji,finland,france,georgia,germany,ghana,greece,guinea,haiti,hungary,iceland,india,indonesia,iraq,ireland,israel,italy,jamaica,japan,jordan,kenya,kuwait,lebanon,libya,malaysia,mali,malta,mexico,morocco,monaco,myanmar,nepal,netherlands,niger,nigeria,norway,oman,pakistan,panama,peru,philippines,poland,portugal,qatar,romania,serbia,singapore,somalia,spain,sudan,sweden,switzerland,thailand,togo,tonga,uganda,ukraine,uruguay,yemen,zambia,zimbabwe]/C) (semsim [afghanistan,argentina,australia,austria,bahamas,bahrain,bangladesh,belgium,brazil,canada,chad,chile,china,colombia,congo,croatia,cuba,cyprus,denmark,ecuador,egypt,ethiopia,fiji,finland,france,georgia,germany,ghana,greece,guinea,haiti,hungary,iceland,india,indonesia,iraq,ireland,israel,italy,jamaica,japan,jordan,kenya,kuwait,lebanon,libya,malaysia,mali,malta,mexico,morocco,monaco,myanmar,nepal,netherlands,niger,nigeria,norway,oman,pakistan,panama,peru,philippines,poland,portugal,qatar,romania,serbia,singapore,somalia,spain,sudan,sweden,switzerland,thailand,togo,tonga,uganda,ukraine,uruguay,yemen,zambia,zimbabwe]/C) ((any against/T for/T of/T over/T) (any TOPIC/R TOPIC/S)) )\n"
     ]
    }
   ],
   "source": [
    "print(pattern)"
   ],
   "metadata": {
    "collapsed": false
   }
  },
  {
   "cell_type": "code",
   "execution_count": 7,
   "outputs": [],
   "source": [
    "df = pd.DataFrame.from_dict(results)"
   ],
   "metadata": {
    "collapsed": false
   }
  },
  {
   "cell_type": "code",
   "execution_count": 8,
   "outputs": [
    {
     "data": {
      "text/plain": "(137, 2)"
     },
     "execution_count": 8,
     "metadata": {},
     "output_type": "execute_result"
    }
   ],
   "source": [
    "df.shape"
   ],
   "metadata": {
    "collapsed": false
   }
  },
  {
   "cell_type": "code",
   "execution_count": 9,
   "outputs": [],
   "source": [
    "df.to_csv(result_dir / f\"{results_file_path.stem}_table.csv\")"
   ],
   "metadata": {
    "collapsed": false
   }
  }
 ],
 "metadata": {
  "kernelspec": {
   "id": "pyenv_graphbrain-semsim",
   "language": "python",
   "display_name": "graphbrain-semsim"
  },
  "language_info": {
   "codemirror_mode": {
    "id": "ipython",
    "version": 2
   },
   "file_extension": ".py",
   "mimetype": "text/x-python",
   "id": "python",
   "nbconvert_exporter": "python",
   "pygments_lexer": "ipython2",
   "version": "2.7.6"
  }
 },
 "nbformat": 4,
 "nbformat_minor": 0
}
